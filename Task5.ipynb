{
 "cells": [
  {
   "cell_type": "code",
   "execution_count": 1,
   "id": "d181a0e6",
   "metadata": {},
   "outputs": [
    {
     "name": "stdout",
     "output_type": "stream",
     "text": [
      "4 \n",
      "4.0O0 \n",
      "False\n",
      "-1.00 \n",
      "False\n",
      "+4.54 \n",
      "False\n",
      "SomeRandomStuff\n",
      "False\n"
     ]
    }
   ],
   "source": [
    "import re \n",
    "\n",
    "regexp = '^[+-]?[0-9]*\\.[0-9]+$' \n",
    "\n",
    "pattern = re.compile(regexp)\n",
    "\n",
    "N = int(input())\n",
    "for _ in range(N):\n",
    "    ans = pattern.match(input())\n",
    "    print(bool(ans))"
   ]
  },
  {
   "cell_type": "code",
   "execution_count": 2,
   "id": "544218dc",
   "metadata": {},
   "outputs": [
    {
     "name": "stdout",
     "output_type": "stream",
     "text": [
      "100.100\n",
      "100\n",
      "100\n"
     ]
    }
   ],
   "source": [
    "regex_pattern = r\"[,.]\"\t# Do not delete 'r'.\n",
    "\n",
    "import re\n",
    "print(\"\\n\".join(re.split(regex_pattern, input())))"
   ]
  },
  {
   "cell_type": "code",
   "execution_count": 3,
   "id": "386ed1e3",
   "metadata": {},
   "outputs": [
    {
     "name": "stdout",
     "output_type": "stream",
     "text": [
      "..12345678910111213141516171820212223\n",
      "1\n"
     ]
    }
   ],
   "source": [
    "import re\n",
    "str1 = input()\n",
    "regexp = r\"([a-z,A-Z,0-9])\\1+\"\n",
    "match = re.search(regexp,str1)\n",
    "if bool(match) ==  True:\n",
    "    print(match.group(1))\n",
    "else:\n",
    "    print(-1)"
   ]
  },
  {
   "cell_type": "code",
   "execution_count": 4,
   "id": "b1882ea8",
   "metadata": {},
   "outputs": [
    {
     "name": "stdout",
     "output_type": "stream",
     "text": [
      "rabcdeefgyYhFjkIoomnpOeorteeeeet\n",
      "ee\n",
      "Ioo\n",
      "Oeo\n",
      "eeeee\n"
     ]
    }
   ],
   "source": [
    "import re\n",
    "\n",
    "regexp = ''\n",
    "\n",
    "vowels = \"aeiouAEIOU\"\n",
    "consonants = \"QWRTYPSDFGHJKLZXCVBNMqwrtypsdfghjklzxcvbnm\"\n",
    "\n",
    "string = input()\n",
    "\n",
    "ss = re.findall(r\"(?<=[%s])([%s]{2,})[%s]\" % (consonants,vowels,consonants),string)\n",
    "\n",
    "if bool(ss):\n",
    "    print(\"\\n\".join(ss))\n",
    "else:\n",
    "    print(-1)"
   ]
  },
  {
   "cell_type": "code",
   "execution_count": 5,
   "id": "1319ff07",
   "metadata": {},
   "outputs": [
    {
     "name": "stdout",
     "output_type": "stream",
     "text": [
      "aaadaa\n",
      "aa\n",
      "(0, 1)\n",
      "(1, 2)\n",
      "(4, 5)\n"
     ]
    }
   ],
   "source": [
    "import re\n",
    "s,k = input(),input()\n",
    "pattern = re.compile(k)\n",
    "match=pattern.search(s)\n",
    "\n",
    "if bool(match) == False:\n",
    "    print((-1,-1))  \n",
    "\n",
    "while bool(match) == True:\n",
    "    print((match.start(),match.end()-1))\n",
    "    match=pattern.search(s,match.start()+1)"
   ]
  },
  {
   "cell_type": "code",
   "execution_count": 7,
   "id": "f4226340",
   "metadata": {},
   "outputs": [
    {
     "name": "stdout",
     "output_type": "stream",
     "text": [
      "2\n",
      "9587456281\n",
      "YES\n",
      "1252478965\n",
      "NO\n"
     ]
    }
   ],
   "source": [
    "import re \n",
    "\n",
    "pattern = r\"^[789][0-9]{9}$\"\n",
    "\n",
    "n = int(input())\n",
    "for i in range(n):\n",
    "    s = input()\n",
    "    if re.match(pattern,s):\n",
    "        print(\"YES\")\n",
    "    else:\n",
    "        print(\"NO\")"
   ]
  },
  {
   "cell_type": "code",
   "execution_count": 9,
   "id": "9e5bfebc",
   "metadata": {},
   "outputs": [
    {
     "name": "stdout",
     "output_type": "stream",
     "text": [
      "2   \n",
      "DEXTER <dexter@hotmail.com> \n",
      "DEXTER <dexter@hotmail.com> \n",
      "VIRUS <virus!@variable.:p>\n"
     ]
    }
   ],
   "source": [
    "import re\n",
    "import email.utils\n",
    "\n",
    "pattern_raw = r\"<[a-z][\\w.-]*@[a-z]+\\.[a-z]{1,3}>$\"\n",
    "\"\"\"\n",
    "This regular expression matches an email address that starts with a \"<\" character, is followed by one or more lowercase letters or digits or \".\", \"-\" characters, then an \"@\" symbol, one or more lowercase letters, a \".\", and finally one to three lowercase letters, and ends with a \">\" character.\n",
    "\"\"\"\n",
    "\n",
    "for i in range(int(input())):\n",
    "    email_full = input()\n",
    "    email = list(email_full.split(\" \"))\n",
    "    pattern = re.compile(pattern_raw)\n",
    "    result = pattern.match(email[1])\n",
    "    \n",
    "    if result:\n",
    "        print (''.join(email_full))"
   ]
  },
  {
   "cell_type": "code",
   "execution_count": 10,
   "id": "fcef11fe",
   "metadata": {},
   "outputs": [
    {
     "name": "stdout",
     "output_type": "stream",
     "text": [
      "MMXVII\n",
      "True\n"
     ]
    }
   ],
   "source": [
    "regex_pattern = r\"M{0,3}(C[DM]|D?C{0,3})(X[CL]|L?X{0,3})(I[VX]|V?I{0,3})$\"\t# Do not delete 'r'.\n",
    "\n",
    "# This regular expression matches a Roman numeral between 1 and 3999, allowing for the use of either subtractive or additive notation.\n",
    "\n",
    "\"\"\"\n",
    "digits = 'I[VX] | V?I{0,3}'\n",
    "tens = 'X[CL] | L?X{0,3}'\n",
    "hundreds = 'C[DM] | D?C{0,3}'\n",
    "thousands = 'M{0,3}'\n",
    "\"\"\"\n",
    "\n",
    "import re\n",
    "print(str(bool(re.match(regex_pattern, input()))))"
   ]
  },
  {
   "cell_type": "code",
   "execution_count": 11,
   "id": "7a041582",
   "metadata": {},
   "outputs": [
    {
     "name": "stdout",
     "output_type": "stream",
     "text": [
      "2 \n",
      "B1CD102354 \n",
      "B1CDEF2354\n",
      "Invalid\n",
      "Valid\n"
     ]
    }
   ],
   "source": [
    "import re\n",
    "\n",
    "uids = list(input() for i in range(int(input())))\n",
    "\n",
    "for uid in uids:\n",
    "    if all([\n",
    "        len(set(uid)) == 10,\n",
    "        uid.isalnum(),\n",
    "        len(re.findall('[A-Z]', uid)) >= 2,\n",
    "        len(re.findall('[0-9]', uid)) >= 3,\n",
    "    ]):\n",
    "        print('Valid')\n",
    "    else:\n",
    "        print('Invalid')"
   ]
  },
  {
   "cell_type": "code",
   "execution_count": 12,
   "id": "0e61b8ec",
   "metadata": {},
   "outputs": [
    {
     "name": "stdout",
     "output_type": "stream",
     "text": [
      "11 \n",
      "a = 1; \n",
      "a = 1; \n",
      "b = input();  \n",
      "b = input();  \n",
      "if a + b > 0 && a - b < 0:     \n",
      "if a + b > 0 and a - b < 0:     \n",
      "start() \n",
      "start() \n",
      "elif a*b > 10 || a/b < 1:     \n",
      "elif a*b > 10 or a/b < 1:     \n",
      "stop() \n",
      "stop() \n",
      "print set(list(a)) | set(list(b))  \n",
      "print set(list(a)) | set(list(b))  \n",
      "#Note do not change &&& or ||| or & or | \n",
      "#Note do not change &&& or ||| or & or | \n",
      "#Only change those '&&' which have space on both sides. #Only change those '|| which have space on both sides.\n",
      "#Only change those '&&' which have space on both sides. #Only change those '|| which have space on both sides.\n",
      "\n",
      "\n",
      "0\n",
      "0\n"
     ]
    }
   ],
   "source": [
    "import re\n",
    "\n",
    "for i in range(int(input())):\n",
    "    S = input()\n",
    "    S = re.sub(\"(?<=[ ])\\&\\&(?=[ ])\", \"and\", S)\n",
    "    #(?<=[ ])\\&\\&(?=[ ]) : This regular expression matches the logical operator \"&&\" only when it is surrounded by a space character on both sides. The use of (?<=[ ]) and (?=[ ]) are called positive lookbehind and positive lookahead respectively.\n",
    "    S = re.sub(\"(?<=[ ])\\|\\|(?=[ ])\", \"or\", S)\n",
    "    #(?<=[ ])\\|\\|(?=[ ]) : This regular expression matches any occurrence of \"||\" that is surrounded by a space on either side. It uses positive lookbehind and positive lookahead assertions to ensure that the space characters are not included in the match.\n",
    "    print(S)"
   ]
  },
  {
   "cell_type": "code",
   "execution_count": null,
   "id": "4678a115",
   "metadata": {},
   "outputs": [],
   "source": [
    "import re\n",
    "\n",
    "pattern = r\".#[0-9A-Fa-f]{3,6}\"\n",
    "# match any string that starts with a ., followed by a #, and ends with 3 to 6 hexadecimal characters (0-9, A-F or a-f)\n",
    "\n",
    "for i in range(int(input())):\n",
    "    ip = re.findall(pattern, input())\n",
    "    \n",
    "    if ip:\n",
    "        for ss in ip:\n",
    "            print(ss[1:])"
   ]
  },
  {
   "cell_type": "code",
   "execution_count": null,
   "id": "3690ff2a",
   "metadata": {},
   "outputs": [],
   "source": [
    "import re\n",
    "\n",
    "pattern = r'^(?!.*(\\d)(-?\\1){3})[456]\\d{3}(?:-?\\d{4}){3}$'\n",
    "\n",
    "# This regular expression matches a credit card number string that starts with 4, 5 or 6, has a total of 16 digits (with optional dashes separating the digits in groups of 4), and does not contain any four repeating digits.\n",
    "\n",
    "compattern = re.compile(pattern)\n",
    "\n",
    "for i in range(int(input())): \n",
    "    if re.match(pattern, input()):\n",
    "        print('Valid')\n",
    "    else:\n",
    "        print('Invalid')"
   ]
  },
  {
   "cell_type": "code",
   "execution_count": null,
   "id": "319fdd6e",
   "metadata": {},
   "outputs": [],
   "source": [
    "from html.parser import HTMLParser\n",
    "            \n",
    "class myParser(HTMLParser):\n",
    "    def handle_starttag(self, tag, attrs):\n",
    "        print(f\"Start : {tag}\")\n",
    "        for attr in attrs:\n",
    "            print(\"-> {0} > {1}\".format(attr[0], attr[1]))\n",
    "            \n",
    "    def handle_endtag(self, tag):\n",
    "        print(\"End   : \" + tag)\n",
    "\n",
    "    def handle_startendtag(self, tag, attrs):\n",
    "        print(\"Empty :\", tag)\n",
    "        for attr in attrs:\n",
    "            print(\"-> {0} > {1}\".format(attr[0], attr[1]))\n",
    "        \n",
    "parser = myParser()\n",
    "n = int(input())\n",
    "for i in range(n):\n",
    "    parser.feed(\"\".join(input()))\n"
   ]
  },
  {
   "cell_type": "code",
   "execution_count": null,
   "id": "e65f13ce",
   "metadata": {},
   "outputs": [],
   "source": [
    "from html.parser import HTMLParser\n",
    "\n",
    "class MyParser(HTMLParser):\n",
    "    def handle_comment(self, comment):\n",
    "        if '\\n' in comment:\n",
    "            print('>>> Multi-line Comment')\n",
    "        else:\n",
    "            print('>>> Single-line Comment')\n",
    "      \n",
    "        print(comment)\n",
    "    \n",
    "    def handle_data(self, data):\n",
    "        if data == '\\n' : return\n",
    "        print('>>> Data')\n",
    "        print(data)\n",
    "        \n",
    "html = \"\"       \n",
    "for i in range(int(input())):\n",
    "    html += input().rstrip()\n",
    "    html += '\\n'\n",
    "    \n",
    "parser = MyParser()\n",
    "parser.feed(html)\n",
    "parser.close()"
   ]
  },
  {
   "cell_type": "code",
   "execution_count": null,
   "id": "35ca22a3",
   "metadata": {},
   "outputs": [],
   "source": [
    "from html.parser import HTMLParser\n",
    "\n",
    "class MyParser(HTMLParser):\n",
    "    def handle_starttag(self, tag, attrs):\n",
    "        print(tag)\n",
    "        if len(attrs) > 0:\n",
    "            for attr in attrs:\n",
    "                print('->', attr[0], '>', attr[1])\n",
    "\n",
    "parser = MyParser()\n",
    "n=int(input())\n",
    "for _ in range(n):\n",
    "    parser.feed(input())"
   ]
  }
 ],
 "metadata": {
  "kernelspec": {
   "display_name": "Python 3",
   "language": "python",
   "name": "python3"
  },
  "language_info": {
   "codemirror_mode": {
    "name": "ipython",
    "version": 3
   },
   "file_extension": ".py",
   "mimetype": "text/x-python",
   "name": "python",
   "nbconvert_exporter": "python",
   "pygments_lexer": "ipython3",
   "version": "3.8.8"
  }
 },
 "nbformat": 4,
 "nbformat_minor": 5
}
