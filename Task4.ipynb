{
 "cells": [
  {
   "cell_type": "code",
   "execution_count": 2,
   "id": "0c77f7bd",
   "metadata": {},
   "outputs": [
    {
     "name": "stdout",
     "output_type": "stream",
     "text": [
      "HackerRank.com presents \"Pythonist 2\".\n",
      "hACKERrANK.COM PRESENTS \"pYTHONIST 2\".\n"
     ]
    }
   ],
   "source": [
    "def swap_case(s):\n",
    "    newstr = \"\"\n",
    "    for char in s :\n",
    "        special = ['\"\"','.',' ','\"',\"'\"]\n",
    "        if char.isupper():\n",
    "            char = char.lower()\n",
    "            newstr += char\n",
    "        elif char.islower():\n",
    "            char = char.upper()\n",
    "            newstr += char\n",
    "        elif char in special:\n",
    "            newstr += char\n",
    "        elif char.isalnum():\n",
    "            newstr += char\n",
    "    return newstr\n",
    "\n",
    "if __name__ == '__main__':\n",
    "    s = input()\n",
    "    result = swap_case(s)\n",
    "    print(result)"
   ]
  },
  {
   "cell_type": "code",
   "execution_count": 3,
   "id": "e8237962",
   "metadata": {},
   "outputs": [
    {
     "name": "stdout",
     "output_type": "stream",
     "text": [
      "this is a string\n",
      "this-is-a-string\n"
     ]
    }
   ],
   "source": [
    "def split_and_join(line):\n",
    "    # write your code here\n",
    "    line = line.split()\n",
    "    line = \"-\".join(line)\n",
    "    return line\n",
    "if __name__ == '__main__':\n",
    "    line = input()\n",
    "    result = split_and_join(line)\n",
    "    print(result)"
   ]
  },
  {
   "cell_type": "code",
   "execution_count": 4,
   "id": "b80375c4",
   "metadata": {},
   "outputs": [
    {
     "name": "stdout",
     "output_type": "stream",
     "text": [
      "Nathan\n",
      "Drake\n",
      "Hello Nathan Drake! You just delved into python.\n"
     ]
    }
   ],
   "source": [
    "def print_full_name(first, last):\n",
    "    # Write your code here\n",
    "    print(f\"Hello \"+first_name+\" \"+last_name+\"! You just delved into python.\")\n",
    "if __name__ == '__main__':\n",
    "    first_name = input()\n",
    "    last_name = input()\n",
    "    print_full_name(first_name, last_name)"
   ]
  },
  {
   "cell_type": "code",
   "execution_count": 5,
   "id": "f834c8b0",
   "metadata": {},
   "outputs": [
    {
     "name": "stdout",
     "output_type": "stream",
     "text": [
      "abracadabra\n",
      "5 k\n",
      "abrackdabra\n"
     ]
    }
   ],
   "source": [
    "def mutate_string(string, position, character):\n",
    "    s_list = list(string)\n",
    "    s_list[position] = character\n",
    "    s = ''.join(s_list)\n",
    "    return s\n",
    "\n",
    "if __name__ == '__main__':\n",
    "    s = input()\n",
    "    i, c = input().split()\n",
    "    s_new = mutate_string(s, int(i), c)\n",
    "    print(s_new)"
   ]
  },
  {
   "cell_type": "code",
   "execution_count": 8,
   "id": "3bf5f690",
   "metadata": {},
   "outputs": [
    {
     "data": {
      "text/plain": [
       "'Hello World'"
      ]
     },
     "execution_count": 8,
     "metadata": {},
     "output_type": "execute_result"
    }
   ],
   "source": [
    "def solve(s):\n",
    "    arr_str = s.split(' ')\n",
    "    arr = []\n",
    "    for i in arr_str:\n",
    "        arr.append(i.capitalize())\n",
    "    return \" \".join(arr)\n",
    "        \n",
    "solve(\"hello world\")"
   ]
  },
  {
   "cell_type": "code",
   "execution_count": 9,
   "id": "54eee09d",
   "metadata": {},
   "outputs": [
    {
     "name": "stdout",
     "output_type": "stream",
     "text": [
      "ABCDCDC\n",
      "CDC\n",
      "2\n"
     ]
    }
   ],
   "source": [
    "def count_substring(string, sub_string):\n",
    "    count = 0\n",
    "    for i in range(len(string)):\n",
    "        if string[i: i+len(sub_string)] == sub_string:\n",
    "            count += 1\n",
    "    return count\n",
    "\n",
    "if __name__ == '__main__':\n",
    "    string = input().strip()\n",
    "    sub_string = input().strip()\n",
    "    \n",
    "    count = count_substring(string, sub_string)\n",
    "    print(count)"
   ]
  },
  {
   "cell_type": "code",
   "execution_count": 10,
   "id": "adbc3a9f",
   "metadata": {},
   "outputs": [
    {
     "name": "stdout",
     "output_type": "stream",
     "text": [
      "qA2\n",
      "True\n",
      "True\n",
      "True\n",
      "True\n",
      "True\n"
     ]
    }
   ],
   "source": [
    "if __name__ == '__main__':\n",
    "    aln = 0\n",
    "    alph = 0\n",
    "    dig = 0\n",
    "    low = 0\n",
    "    upr = 0\n",
    "    s = input()\n",
    "    for i in range(len(s)):\n",
    "        if s[i].isalnum():\n",
    "            aln += 1\n",
    "    for i in range(len(s)):\n",
    "        if s[i].isalpha():\n",
    "            alph += 1\n",
    "    for i in range(len(s)):            \n",
    "        if s[i].isdigit():\n",
    "            dig += 1\n",
    "    for i in range(len(s)):        \n",
    "        if s[i].islower():\n",
    "            low += 1\n",
    "    for i in range(len(s)):        \n",
    "        if s[i].isupper():\n",
    "            upr += 1\n",
    "            \n",
    "if aln > 0 :\n",
    "    print(True)\n",
    "else:\n",
    "    print(False)\n",
    "    \n",
    "if alph > 0 :\n",
    "    print(True)\n",
    "else:\n",
    "    print(False)\n",
    "    \n",
    "if dig > 0 :\n",
    "    print(True)\n",
    "else:\n",
    "    print(False)\n",
    "    \n",
    "if low > 0 :\n",
    "    print(True)\n",
    "else:\n",
    "    print(False)\n",
    "\n",
    "if upr > 0 :\n",
    "    print(True)\n",
    "else:\n",
    "    print(False)"
   ]
  },
  {
   "cell_type": "code",
   "execution_count": 1,
   "id": "4262fb23",
   "metadata": {},
   "outputs": [
    {
     "name": "stdout",
     "output_type": "stream",
     "text": [
      "ABCDEFGHIJKLIMNOQRSTUVWXYZ\n",
      "4\n",
      "ABCD\n",
      "EFGH\n",
      "IJKL\n",
      "IMNO\n",
      "QRST\n",
      "UVWX\n",
      "YZ\n",
      "\n"
     ]
    }
   ],
   "source": [
    "import textwrap\n",
    "\n",
    "def wrap(string, max_width):\n",
    "    s = \"\"\n",
    "    for i in range(0,len(string),max_width):\n",
    "        s = s + string[i : i + max_width] + '\\n'\n",
    "    return s\n",
    "        \n",
    "if __name__ == '__main__':\n",
    "    string, max_width = input(), int(input())\n",
    "    result = wrap(string, max_width)\n",
    "    print(result)"
   ]
  },
  {
   "cell_type": "code",
   "execution_count": 5,
   "id": "ed30b0b0",
   "metadata": {},
   "outputs": [
    {
     "name": "stdout",
     "output_type": "stream",
     "text": [
      "9 27\n",
      "------------.|.------------\n",
      "---------.|..|..|.---------\n",
      "------.|..|..|..|..|.------\n",
      "---.|..|..|..|..|..|..|.---\n",
      "----------WELCOME----------\n",
      "---.|..|..|..|..|..|..|.---\n",
      "------.|..|..|..|..|.------\n",
      "---------.|..|..|.---------\n",
      "------------.|.------------\n"
     ]
    }
   ],
   "source": [
    "n,m = map(int,input().split())\n",
    "\n",
    "\n",
    "for i in range(n): \n",
    "    if i%2==1: \n",
    "        print((\".|.\"*i).center(m , \"-\"))\n",
    "\n",
    "\n",
    "print(\"WELCOME\".center(m , \"-\"))\n",
    "\n",
    "\n",
    "for i in range(1,n): \n",
    "    if (n-i)%2==1: \n",
    "        print((\".|.\"*(n-i)).center(m , \"-\"))"
   ]
  },
  {
   "cell_type": "code",
   "execution_count": 6,
   "id": "46a5ccd0",
   "metadata": {},
   "outputs": [
    {
     "name": "stdout",
     "output_type": "stream",
     "text": [
      "10\n",
      "   1    1    1    1\n",
      "   2    2    2   10\n",
      "   3    3    3   11\n",
      "   4    4    4  100\n",
      "   5    5    5  101\n",
      "   6    6    6  110\n",
      "   7    7    7  111\n",
      "   8   10    8 1000\n",
      "   9   11    9 1001\n",
      "  10   12    A 1010\n"
     ]
    }
   ],
   "source": [
    "def print_formatted(number):\n",
    "    w = number.bit_length()\n",
    "    for i in range(1, number + 1) :\n",
    "        print(\n",
    "            str(i).rjust(w),\n",
    "            format(i, 'o').rjust(w),\n",
    "            format(i, 'X').rjust(w),\n",
    "            format(i, 'b').rjust(w)    \n",
    "        )\n",
    "\n",
    "if __name__ == '__main__':\n",
    "    n = int(input())\n",
    "    print_formatted(n)"
   ]
  },
  {
   "cell_type": "code",
   "execution_count": 7,
   "id": "7363e39e",
   "metadata": {},
   "outputs": [
    {
     "name": "stdout",
     "output_type": "stream",
     "text": [
      "5\n",
      "--------e--------\n",
      "------e-d-e------\n",
      "----e-d-c-d-e----\n",
      "--e-d-c-b-c-d-e--\n",
      "e-d-c-b-a-b-c-d-e\n",
      "--e-d-c-b-c-d-e--\n",
      "----e-d-c-d-e----\n",
      "------e-d-e------\n",
      "--------e--------\n"
     ]
    }
   ],
   "source": [
    "def print_rangoli(size):\n",
    "    alphabet = 'abcdefghijklmnopqrstuvwxyz'\n",
    "    \n",
    "    neg_size = -size+1\n",
    "    for i in range(neg_size,size):\n",
    "        for j in range(neg_size,size):\n",
    "            pos = abs(i)+abs(j)\n",
    "            if pos < size:\n",
    "                print(alphabet[pos],end='')\n",
    "            else:\n",
    "                print('-',end='')\n",
    "\n",
    "            if j<size-1:\n",
    "                print('-',end='')\n",
    "            else:\n",
    "                print('')\n",
    "\n",
    "if __name__ == '__main__':\n",
    "    n = int(input())\n",
    "    print_rangoli(n)"
   ]
  },
  {
   "cell_type": "code",
   "execution_count": 9,
   "id": "2f5d0aaa",
   "metadata": {},
   "outputs": [
    {
     "name": "stdout",
     "output_type": "stream",
     "text": [
      "['AAB', 'CAA', 'ADA']\n"
     ]
    }
   ],
   "source": [
    "str_lst = textwrap.wrap(\"AABCAAADA\", 3)\n",
    "print(str_lst)"
   ]
  },
  {
   "cell_type": "code",
   "execution_count": null,
   "id": "c16e6ab6",
   "metadata": {},
   "outputs": [],
   "source": [
    "import textwrap\n",
    "\n",
    "def merge_the_tools(string, k):\n",
    "    # your code goes here\n",
    "    str_lst = textwrap.wrap(string, k)\n",
    "    for i in str_lst:\n",
    "        print(''.join(list(dict.fromkeys(i))))\n",
    "        \n",
    "\n",
    "if __name__ == '__main__':\n",
    "    string, k = input(), int(input())\n",
    "    merge_the_tools(string, k)"
   ]
  }
 ],
 "metadata": {
  "kernelspec": {
   "display_name": "Python 3 (ipykernel)",
   "language": "python",
   "name": "python3"
  },
  "language_info": {
   "codemirror_mode": {
    "name": "ipython",
    "version": 3
   },
   "file_extension": ".py",
   "mimetype": "text/x-python",
   "name": "python",
   "nbconvert_exporter": "python",
   "pygments_lexer": "ipython3",
   "version": "3.9.13"
  }
 },
 "nbformat": 4,
 "nbformat_minor": 5
}
