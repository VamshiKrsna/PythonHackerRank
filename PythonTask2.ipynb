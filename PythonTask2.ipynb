{
 "cells": [
  {
   "cell_type": "markdown",
   "id": "beedc577",
   "metadata": {},
   "source": [
    "# Question 1"
   ]
  },
  {
   "cell_type": "code",
   "execution_count": 1,
   "id": "72048db5",
   "metadata": {},
   "outputs": [
    {
     "name": "stdout",
     "output_type": "stream",
     "text": [
      "5\n",
      "2 3 6 6 5\n",
      "5\n"
     ]
    }
   ],
   "source": [
    "if __name__ == '__main__':\n",
    "    n = int(input())\n",
    "    arr = map(int, input().split())\n",
    "    new = set(arr)\n",
    "    new.remove(max(new))\n",
    "    print(max(new))"
   ]
  },
  {
   "cell_type": "markdown",
   "id": "3fd41fea",
   "metadata": {},
   "source": [
    "# Question 2"
   ]
  },
  {
   "cell_type": "code",
   "execution_count": 5,
   "id": "21bd56ff",
   "metadata": {},
   "outputs": [
    {
     "name": "stdout",
     "output_type": "stream",
     "text": [
      "5\n",
      "Harry \n",
      "37.21 \n",
      "Berry \n",
      "37.21 \n",
      "Tina \n",
      "37.2 \n",
      "Akriti \n",
      "41 \n",
      "Harsh \n",
      "39\n",
      "Berry \n",
      "Harry \n"
     ]
    }
   ],
   "source": [
    "if __name__ == '__main__':\n",
    "\n",
    "    l1 = []\n",
    "    l2 = []\n",
    "    l3 = []\n",
    "    for _ in range(int(input())):\n",
    "        name = input()\n",
    "        score = float(input())\n",
    "        l3.append([name,score])\n",
    "        l2.append(score)\n",
    "        \n",
    "    l2 = list(sorted(set(l2)))\n",
    "    penlowscore = l2[1]\n",
    "    \n",
    "    for i in range(len(l3)):\n",
    "        if l3[i][1] == penlowscore:\n",
    "            l1.append(l3[i][0])\n",
    "    l1.sort()   \n",
    "    for i in l1:\n",
    "        print(i)"
   ]
  },
  {
   "cell_type": "markdown",
   "id": "9d8c2ee9",
   "metadata": {},
   "source": [
    "# Question 3"
   ]
  },
  {
   "cell_type": "code",
   "execution_count": 6,
   "id": "218d4b05",
   "metadata": {},
   "outputs": [
    {
     "name": "stdout",
     "output_type": "stream",
     "text": [
      "2 \n",
      "1 2\n",
      "-3550055125485641917\n"
     ]
    }
   ],
   "source": [
    "# Only works in pypy3 console in hackerrank.\n",
    "import builtins\n",
    "\n",
    "if __name__ == '__main__':\n",
    "    n = int(input())\n",
    "    integer_list = map(int, input().split()) \n",
    "    tup=tuple(integer_list) \n",
    "    print(hash(tup))"
   ]
  },
  {
   "cell_type": "markdown",
   "id": "3d48838a",
   "metadata": {},
   "source": [
    "# Question 4"
   ]
  },
  {
   "cell_type": "code",
   "execution_count": null,
   "id": "a7d07cf3",
   "metadata": {},
   "outputs": [],
   "source": [
    "# Enter your code here. Read input from STDIN. Print output to STDOUT\n",
    "n = int(input())\n",
    "set1 = set(map(int,input().split()))\n",
    "m = int(input())\n",
    "set2 = set(map(int,input().split()))\n",
    "setd = set1.symmetric_difference(set2)\n",
    "ld = list(setd)\n",
    "ld = sorted(ld)\n",
    "for ele in ld:\n",
    "    print(ele)"
   ]
  },
  {
   "cell_type": "markdown",
   "id": "82470dd2",
   "metadata": {},
   "source": [
    "# Question 5"
   ]
  },
  {
   "cell_type": "code",
   "execution_count": null,
   "id": "9c12ad89",
   "metadata": {},
   "outputs": [],
   "source": [
    "n = int(input())\n",
    "l = []\n",
    "for i in range(n):\n",
    "    item = input()\n",
    "    l.append(item)\n",
    "\n",
    "s1 = set(l)\n",
    "l2 = []\n",
    "l2 = list(s1)\n",
    "print(len(l2))"
   ]
  },
  {
   "cell_type": "markdown",
   "id": "327e99b2",
   "metadata": {},
   "source": [
    "# Question 6"
   ]
  },
  {
   "cell_type": "code",
   "execution_count": null,
   "id": "6fba8b14",
   "metadata": {},
   "outputs": [],
   "source": [
    "n = int(input())\n",
    "s = set(map(int, input().split()))\n",
    "lst =[]\n",
    "n1 = int(input())\n",
    "for i in range(n1):\n",
    "    lst.append(input().split())\n",
    "for i in range(n1):\n",
    "    if lst[i][0] ==\"pop\":\n",
    "        s.pop()\n",
    "    if lst[i][0] ==\"remove\":\n",
    "        s.remove(int(lst[i][1]))\n",
    "    if lst[i][0] ==\"discard\":\n",
    "        s.discard(int(lst[i][1]))\n",
    "print(sum(s))"
   ]
  },
  {
   "cell_type": "markdown",
   "id": "20f8d940",
   "metadata": {},
   "source": [
    "# Question 7"
   ]
  },
  {
   "cell_type": "code",
   "execution_count": null,
   "id": "71cc768b",
   "metadata": {},
   "outputs": [],
   "source": [
    "x = int(input())\n",
    "y = int(input())\n",
    "z = int(input())\n",
    "n = int(input())\n",
    "\n",
    "result = []\n",
    "for a in range(0, x + 1):\n",
    "    for b in range(0, y + 1):\n",
    "        for c in range(0, z + 1):\n",
    "            if a + b + c != n:\n",
    "                result.append([a,b,c])\n",
    "\n",
    "print(result)\n"
   ]
  },
  {
   "cell_type": "markdown",
   "id": "7375ba75",
   "metadata": {},
   "source": [
    "# Question 8"
   ]
  },
  {
   "cell_type": "code",
   "execution_count": 1,
   "id": "600e7d55",
   "metadata": {},
   "outputs": [
    {
     "name": "stdout",
     "output_type": "stream",
     "text": [
      "3 \n",
      "Krishna 67 68 69 \n",
      "Arjun 70 98 63 \n",
      "Malika 52 56 60 \n",
      "Malika\n",
      "56.00\n"
     ]
    }
   ],
   "source": [
    "n = int(input())\n",
    "student_marks = {}\n",
    "for _ in range(n):\n",
    "    name, *line = input().split()\n",
    "    scores = list(map(float, line))\n",
    "    student_marks[name] = scores\n",
    "query_name = input()\n",
    "    \n",
    "count = 0\n",
    "\n",
    "for i in student_marks[query_name]:\n",
    "    count += i\n",
    "     \n",
    "avg = count / 3\n",
    "print(\"{:.2f}\".format(avg))"
   ]
  },
  {
   "cell_type": "markdown",
   "id": "36e48584",
   "metadata": {},
   "source": [
    "# Question 9"
   ]
  },
  {
   "cell_type": "code",
   "execution_count": null,
   "id": "ba9c73ee",
   "metadata": {},
   "outputs": [],
   "source": [
    "def ins(l, cmd):\n",
    "    l.insert(int(cmd[-2]),int(cmd[-1]))\n",
    "    return l\n",
    "        \n",
    "def apd(l, cmd):\n",
    "    l.append(int(cmd[-1]))\n",
    "    return l\n",
    "\n",
    "def prt(l):\n",
    "    print(l)\n",
    "    \n",
    "def rem(l, cmd):\n",
    "    if(int(cmd[-1])in l):\n",
    "        l.remove(int(cmd[-1]))    \n",
    "    return l\n",
    "\n",
    "def srt(l):\n",
    "    l.sort()\n",
    "    return l\n",
    "\n",
    "def pp(l):\n",
    "    l.pop()\n",
    "    return l\n",
    "\n",
    "def rev(l):\n",
    "    l.reverse()\n",
    "    return l\n",
    "\n",
    "if __name__ == '__main__':\n",
    "    N = int(input())\n",
    "    l = []\n",
    "    for _ in range(N):\n",
    "        command = input().split()\n",
    "        \n",
    "        if command[0]==\"append\":\n",
    "            l = apd(l, command)\n",
    "        \n",
    "        elif command[0]==\"print\":\n",
    "            prt(l)\n",
    "        \n",
    "        elif command[0]==\"insert\":\n",
    "            l = ins(l, command)\n",
    "          \n",
    "        elif command[0]==\"remove\":\n",
    "            l = rem(l, command)\n",
    "        \n",
    "        elif command[0]==\"sort\":\n",
    "            l = srt(l)\n",
    "        \n",
    "        elif command[0]==\"pop\":\n",
    "            l = pp(l)\n",
    "        \n",
    "        elif command[0]==\"reverse\":\n",
    "            l = rev(l)       "
   ]
  },
  {
   "cell_type": "markdown",
   "id": "a3f097af",
   "metadata": {},
   "source": [
    "# Question 10"
   ]
  },
  {
   "cell_type": "code",
   "execution_count": 2,
   "id": "1fdcccf7",
   "metadata": {},
   "outputs": [
    {
     "name": "stdout",
     "output_type": "stream",
     "text": [
      "10\n",
      "161 182 161 154 176 170 167 171 170 174\n",
      "169.375\n"
     ]
    }
   ],
   "source": [
    "def average(array):\n",
    "    # your code goes here\n",
    "    s1 = set(array)\n",
    "    l1 = list(s1)\n",
    "    sum = 0\n",
    "    for i in l1:\n",
    "        sum += i\n",
    "    return sum/len(l1)\n",
    "    \n",
    "\n",
    "if __name__ == '__main__':\n",
    "    n = int(input())\n",
    "    arr = list(map(int, input().split()))\n",
    "    result = average(arr)\n",
    "    print(result)"
   ]
  },
  {
   "cell_type": "markdown",
   "id": "f1a430bd",
   "metadata": {},
   "source": [
    "# Question 11"
   ]
  },
  {
   "cell_type": "code",
   "execution_count": 3,
   "id": "6800dff7",
   "metadata": {},
   "outputs": [
    {
     "name": "stdout",
     "output_type": "stream",
     "text": [
      "4\n",
      "2 4 5 9\n",
      "4\n",
      "2 4 11 2\n",
      "5\n",
      "9\n",
      "11\n"
     ]
    }
   ],
   "source": [
    "n = int(input())\n",
    "set1 = set(map(int,input().split()))\n",
    "m = int(input())\n",
    "set2 = set(map(int,input().split()))\n",
    "setd = set1.symmetric_difference(set2)\n",
    "ld = list(setd)\n",
    "ld = sorted(ld)\n",
    "for ele in ld:\n",
    "    print(ele)"
   ]
  },
  {
   "cell_type": "markdown",
   "id": "acc1b648",
   "metadata": {},
   "source": [
    "# Question 12"
   ]
  },
  {
   "cell_type": "code",
   "execution_count": 4,
   "id": "ba3051d4",
   "metadata": {},
   "outputs": [
    {
     "name": "stdout",
     "output_type": "stream",
     "text": [
      "9 \n",
      "1 2 3 4 5 6 7 8 9 \n",
      "9 \n",
      "10 1 2 3 11 21 55 6 8\n",
      "13\n"
     ]
    }
   ],
   "source": [
    "# Enter your code here. Read input from STDIN. Print output to STDOUT\n",
    "n = int(input())\n",
    "s1 = set(map(int,input().split()))\n",
    "m = int(input())\n",
    "s2 = set(map(int,input().split()))\n",
    "\n",
    "l = list(s1.union(s2))\n",
    "print(len(l))"
   ]
  },
  {
   "cell_type": "markdown",
   "id": "98e83ec4",
   "metadata": {},
   "source": [
    "# Question 13"
   ]
  },
  {
   "cell_type": "code",
   "execution_count": null,
   "id": "6fa1a6bb",
   "metadata": {},
   "outputs": [],
   "source": [
    "n = int(input())\n",
    "s1 = set(map(int,input().split()))\n",
    "m = int(input())\n",
    "s2 = set(map(int,input().split()))\n",
    "\n",
    "l = list(s1.intersection(s2))\n",
    "print(len(l))"
   ]
  },
  {
   "cell_type": "markdown",
   "id": "76332de0",
   "metadata": {},
   "source": [
    "# Question 14"
   ]
  },
  {
   "cell_type": "code",
   "execution_count": null,
   "id": "60387455",
   "metadata": {},
   "outputs": [],
   "source": [
    "n = int(input())\n",
    "s1 = set(map(int,input().split()))\n",
    "m = int(input())\n",
    "s2 = set(map(int,input().split()))\n",
    "\n",
    "l = list(s1.difference(s2))\n",
    "print(len(l))"
   ]
  },
  {
   "cell_type": "markdown",
   "id": "40a630f5",
   "metadata": {},
   "source": [
    "# Question 15"
   ]
  },
  {
   "cell_type": "code",
   "execution_count": null,
   "id": "947d52f5",
   "metadata": {},
   "outputs": [],
   "source": [
    "n = int(input())\n",
    "s1 = set(map(int,input().split()))\n",
    "m = int(input())\n",
    "s2 = set(map(int,input().split()))\n",
    "\n",
    "l = list(s1.symmetric_difference(s2))\n",
    "print(len(l))"
   ]
  },
  {
   "cell_type": "markdown",
   "id": "232e9f62",
   "metadata": {},
   "source": [
    "# Question 16"
   ]
  },
  {
   "cell_type": "code",
   "execution_count": null,
   "id": "e9fc5d60",
   "metadata": {},
   "outputs": [],
   "source": [
    "n = int(input())\n",
    "l1 = list(map(int,input().split()))\n",
    "\n",
    "s1 = set(l1)\n",
    "for i in s1:\n",
    "    l1.remove(i)\n",
    "s2 = set(l1)\n",
    "num = s1.difference(s2).pop()\n",
    "print(num)"
   ]
  },
  {
   "cell_type": "markdown",
   "id": "0cbb97a6",
   "metadata": {},
   "source": [
    "# Question 17"
   ]
  },
  {
   "cell_type": "code",
   "execution_count": 1,
   "id": "b6c2db30",
   "metadata": {},
   "outputs": [
    {
     "name": "stdout",
     "output_type": "stream",
     "text": [
      "16  \n",
      "1 2 3 4 5 6 7 8 9 10 11 12 13 14 24 52  \n",
      "4  \n",
      "intersection_update 10  \n",
      "2 3 5 6 8 9 1 4 7 11  \n",
      "update 2  \n",
      "55 66  \n",
      "symmetric_difference_update 5  \n",
      "22 7 35 62 58  \n",
      "difference_update 7  \n",
      "11 22 35 55 58 62 66\n",
      "38\n"
     ]
    }
   ],
   "source": [
    "# Enter your code here. Read input from STDIN. Print output to STDOUT\n",
    "n=int(input())\n",
    "s1=set(map(int,input().split()))\n",
    "N=int(input())\n",
    "for i in range(N):\n",
    "    command=list(input().split())\n",
    "    if command[0]==\"update\":\n",
    "        b=set(map(int,input().split()))\n",
    "        s1.update(b)\n",
    "    elif command[0]==\"intersection_update\":\n",
    "        b=set(map(int,input().split()))\n",
    "        s1.intersection_update(b)\n",
    "    elif command[0]==\"difference_update\":\n",
    "        b=set(map(int,input().split()))\n",
    "        s1.difference_update(b)       \n",
    "    elif command[0]==\"symmetric_difference_update\":\n",
    "        b=set(map(int,input().split()))\n",
    "        s1.symmetric_difference_update(b)\n",
    "print(sum(s1))"
   ]
  },
  {
   "cell_type": "markdown",
   "id": "55a97821",
   "metadata": {},
   "source": [
    "# Question 18"
   ]
  },
  {
   "cell_type": "code",
   "execution_count": 3,
   "id": "b64eb178",
   "metadata": {},
   "outputs": [
    {
     "name": "stdout",
     "output_type": "stream",
     "text": [
      "3 \n",
      "5\n",
      " 1 2 3 5 6 \n",
      "9\n",
      " 9 8 5 6 3 2 1 4 7 \n",
      "True\n",
      "1\n",
      "2\n",
      "5\n",
      " 3 6 5 4 1 \n",
      "False\n",
      "7 \n",
      "1 2 3 5 6 8 9\n",
      " 3 \n",
      "9 8 2\n",
      "False\n"
     ]
    }
   ],
   "source": [
    "t=int(input())\n",
    "for i in range(t):\n",
    "    a=int(input())\n",
    "    A=set(map(int,input().split()))\n",
    "    b=int(input())\n",
    "    B=set(map(int,input().split()))\n",
    "    print(A<B)"
   ]
  }
 ],
 "metadata": {
  "kernelspec": {
   "display_name": "Python 3",
   "language": "python",
   "name": "python3"
  },
  "language_info": {
   "codemirror_mode": {
    "name": "ipython",
    "version": 3
   },
   "file_extension": ".py",
   "mimetype": "text/x-python",
   "name": "python",
   "nbconvert_exporter": "python",
   "pygments_lexer": "ipython3",
   "version": "3.8.8"
  }
 },
 "nbformat": 4,
 "nbformat_minor": 5
}
